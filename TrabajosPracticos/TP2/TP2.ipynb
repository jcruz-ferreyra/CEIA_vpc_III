{
  "cells": [
    {
      "cell_type": "markdown",
      "metadata": {
        "id": "KaqKZN8A9Ds_"
      },
      "source": [
        "# Vision Transformer (ViT)\n",
        "\n",
        "El Vision Transformer (ViT), propuesto por Dosovitskiy et al. (2020), utiliza una arquitectura basada en Transformers para tareas de visión por computadora. A diferencia de las CNN, el ViT aplica **Multi-Head Self-Attention (MHSA)** para modelar relaciones globales entre partes de la imagen.\n",
        "\n",
        "## Arquitectura\n",
        "\n",
        "El ViT divide las imágenes en **patches** y las convierte en una secuencia de vectores de características (embeddings), que luego se procesan mediante capas Transformer. A continuación, se aplica el mecanismo de self-attention para modelar las relaciones entre estos patches.\n",
        "\n",
        "- **Embeddings**: Cada parche se aplana y se proyecta en un espacio de mayor dimensión.\n",
        "- **Positional Encoding**: Se agrega un embebido posicional para cada parche, permitiendo que el modelo capture las posiciones espaciales.\n",
        "---\n",
        "## ¿Cómo funciona el Self-Attention en ViT?\n",
        "\n",
        "Cada uno de los parches se considera un token similar a las palabras en el procesamiento del lenguaje natural (NLP).\n",
        "En el mecanismo de Self-Attention, cada uno de estos tokens (parches) puede interactuar con los demás tokens. Para hacerlo, el modelo calcula tres vectores para cada token:\n",
        "\n",
        "- **Query:** Representa qué está buscando el token.\n",
        "\n",
        "- **Key:** Representa una descripción de los demás tokens.\n",
        "\n",
        "- **Value:** Es la información que tiene cada token y que podría ser relevante para otros tokens.\n",
        "\n",
        "Luego, se calculan las similitudes entre el *Query* de un token y el *Key* de todos los demás tokens, lo que genera una \"puntuación de atención\". Esta puntuación determina cuánta atención debe prestar un token a otros. El valor *Value* de cada token se pondera según esta puntuación, lo que permite que un token integre información de todo el resto de la imagen.\n",
        "\n",
        "Este mecanismo es lo que permite que cada token (parche) en una imagen entienda no solo lo que está ocurriendo en su área local, sino también pueda considerar qué está sucediendo en otras partes de la imagen.\n",
        "\n",
        "La fórmula utilizada para calcular la atención es:\n",
        "\n",
        "$$\n",
        "\\text{Attention}(Q, K, V) = \\text{softmax}\\left(\\frac{QK^T}{\\sqrt{d_k}}\\right)V\n",
        "$$\n",
        "\n",
        "Donde:\n",
        "- **$Q$ (queries)**, **$K$ (keys)**, y **$V$ (values)** son las proyecciones lineales de los embeddings de los patches.\n",
        "- **$d_k$** es la dimensionalidad de las proyecciones, usada para escalar el producto punto y estabilizar el entrenamiento.\n",
        "\n",
        "Este proceso se aplica en múltiples cabezas, lo que permite al modelo aprender distintas representaciones.\n",
        "\n",
        "El mecanismo de self-attention utiliza las proyecciones:\n",
        "\n",
        "$$Q = XW_Q, \\quad K = XW_K, \\quad V = XW_V$$\n",
        "\n",
        "Donde $X$ es el input y $W_Q$, $W_K$, y $W_V$ son matrices de pesos aprendidos.\n",
        "\n",
        "Después de aplicar el mecanismo de Self-Attention, los tokens se actualizan, ya que ahora tienen información de los demás tokens. Este proceso se repite varias veces en distintas capas de atención, profundizando la interacción entre los parches.\n",
        "\n",
        "Salida Final: Después de aplicar múltiples capas de Self-Attention, el modelo agrupa los tokens procesados para predecir la clase de la imagen o realizar otras tareas de visión.\n",
        "\n",
        "\n",
        "![Vision Transformer](vit_gif.gif)\n",
        "\n",
        "*Crédito: [lucidrains](https://github.com/lucidrains/vit-pytorch)*\n"
      ]
    },
    {
      "cell_type": "markdown",
      "metadata": {
        "id": "NLkut8AJ9DtB"
      },
      "source": [
        "## Tareas:\n",
        "\n",
        "1. **Implementar la arquitectura de un Vision Transformer**\n",
        "\n",
        "2. **Ingresar y ajustar los parametros del modelo***\n",
        "\n",
        "3. **Probar diferentes técnicas de data augmentation**"
      ]
    },
    {
      "cell_type": "code",
      "execution_count": 1,
      "metadata": {
        "colab": {
          "base_uri": "https://localhost:8080/"
        },
        "id": "rK-24VHy9DtC",
        "outputId": "57a142c7-d1a1-48df-8c60-e2074611b77c"
      },
      "outputs": [
        {
          "name": "stdout",
          "output_type": "stream",
          "text": [
            "Dispositivo:  cuda\n",
            "Torch version:  2.6.0+cu124\n"
          ]
        }
      ],
      "source": [
        "from sklearn.metrics import accuracy_score, precision_score, recall_score, f1_score\n",
        "from tqdm.notebook import tqdm\n",
        "import numpy as np\n",
        "import math\n",
        "import os\n",
        "import torch\n",
        "from torch import Tensor\n",
        "import torch.nn as nn\n",
        "import torchvision.transforms.functional as TF\n",
        "import matplotlib.pyplot as plt\n",
        "from PIL import Image\n",
        "import torch.optim as optim\n",
        "from torch.optim.lr_scheduler import StepLR\n",
        "import torch.nn.functional as F\n",
        "import torch\n",
        "from torchvision import datasets, transforms\n",
        "import torch._dynamo\n",
        "torch._dynamo.config.suppress_errors = True\n",
        "from trainer import Trainer, EarlyStopping\n",
        "\n",
        "\n",
        "\n",
        "device =  'cuda' if torch.cuda.is_available() else 'mps' if torch.backends.mps.is_available() else 'cpu'\n",
        "print('Dispositivo: ',device)\n",
        "print('Torch version: ',torch.__version__)\n",
        "\n",
        "# La configuración, carga y preprocesamiento\n",
        "class ConfigPreprocess:\n",
        "    def __init__(self, device: str, img_path: str, img_size: int, patch_size: int):\n",
        "        self.device = device\n",
        "        self.img_path = img_path\n",
        "        self.img_size = img_size\n",
        "        self.patch_size = patch_size\n",
        "        self.test_img = self.load_image()\n",
        "\n",
        "    def load_image(self):\n",
        "        return TF.to_tensor(Image.open(self.img_path).resize((self.img_size, self.img_size))).unsqueeze(0).to(self.device)\n",
        "\n",
        "    def extract_patches(self, image: Tensor) -> Tensor:\n",
        "        patches = image.unfold(1, self.patch_size, self.patch_size).unfold(2, self.patch_size, self.patch_size)\n",
        "        patches = patches.contiguous().view(image.shape[0], -1, self.patch_size, self.patch_size)\n",
        "        return patches\n",
        "\n",
        "\n",
        "class PatchEmbedding(nn.Module):\n",
        "    def __init__(self, img_size: int, patch_size: int, in_channels: int = 3, embed_dim: int = 8):\n",
        "        super(PatchEmbedding, self).__init__()\n",
        "        self.img_size = img_size\n",
        "        self.patch_size = patch_size\n",
        "        self.num_patches = (img_size // patch_size) ** 2\n",
        "        self.proj = nn.Conv2d(in_channels, embed_dim, kernel_size=patch_size, stride=patch_size)\n",
        "\n",
        "    def forward(self, x):\n",
        "        x = self.proj(x)  # (B, embed_dim, H/patch_size, W/patch_size)\n",
        "        x = x.flatten(2)  # (B, embed_dim, num_patches)\n",
        "        x = x.transpose(1, 2)  # (B, num_patches, embed_dim)\n",
        "        return x\n",
        "\n",
        "class PositionalEncodingLearned(nn.Module):\n",
        "    def __init__(self, num_patches, embed_dim):\n",
        "        super(PositionalEncodingLearned, self).__init__()\n",
        "        self.pos_embedding = nn.Parameter(torch.randn(1, num_patches, embed_dim))\n",
        "\n",
        "    def forward(self, x):\n",
        "        return x + self.pos_embedding\n",
        "\n",
        "# Parámetros\n",
        "img_path = \"raccoon.jpg\"\n",
        "img_size = 900\n",
        "patch_size = 64\n",
        "embed_dim = 8\n",
        "patch_idx = 0  # El índice del parche para el cual queres visualiizar la codificación posicional\n",
        "\n",
        "# Preprocesamiento\n",
        "config = ConfigPreprocess(device,img_path, img_size, patch_size)\n",
        "\n",
        "# Extracción de parches y visualización\n",
        "patches = config.extract_patches(config.test_img.squeeze(0))\n",
        "\n",
        "# Generación de embeddings\n",
        "embedded_patches = PatchEmbedding(img_size, patch_size, 3, embed_dim).to(config.device)\n",
        "patches = embedded_patches(config.test_img)\n",
        "\n",
        "# Codificación posicional\n",
        "\n",
        "num_patches = (img_size // patch_size) ** 2\n",
        "try:\n",
        "    positional_encoding = PositionalEncodingLearned(num_patches, embed_dim).to(config.device)\n",
        "    pos_embeddings = positional_encoding(patches)\n",
        "\n",
        "except Exception as e:\n",
        "    print(f\"Revise la existencia de la función PositionalEncodingLearned. Se produjo error durante la compilación: \\n {e}.\")\n"
      ]
    },
    {
      "cell_type": "markdown",
      "metadata": {
        "id": "axcbPLbO9DtD"
      },
      "source": [
        "# Transformer Encoder"
      ]
    },
    {
      "cell_type": "code",
      "execution_count": 2,
      "metadata": {
        "id": "i4N5VzgE9DtD"
      },
      "outputs": [],
      "source": [
        "class TransformerEncoder(nn.Module):\n",
        "    def __init__(\n",
        "        self, embed_dim: int, num_heads: int, ff_dim: int, num_layers: int, dropout=0.1, batch_first=True\n",
        "    ):\n",
        "        super(TransformerEncoder, self).__init__()\n",
        "        encoder_layer = nn.TransformerEncoderLayer(\n",
        "            d_model=embed_dim,\n",
        "            nhead=num_heads,\n",
        "            dim_feedforward=ff_dim,\n",
        "            dropout=dropout,\n",
        "            bias=False,\n",
        "            batch_first=batch_first,\n",
        "        )\n",
        "        self.transformer_encoder = nn.TransformerEncoder(\n",
        "            encoder_layer, num_layers=num_layers\n",
        "        )\n",
        "\n",
        "    def forward(self, x):\n",
        "        return self.transformer_encoder(x)"
      ]
    },
    {
      "cell_type": "markdown",
      "metadata": {
        "id": "nSeGm42E9DtE"
      },
      "source": [
        "# Vision Transformer\n",
        "Model\n",
        ">\n",
        "```ViT-Base ViT-Large ViT-Huge\n",
        "    Layers Hidden size D 12 768\n",
        "    24 1024 32 1280\n",
        "    MLP size Heads\n",
        "    Params\n",
        "    3072 12 86M 4096 16 307M 5120 16 632M\n",
        "```\n"
      ]
    },
    {
      "cell_type": "code",
      "execution_count": 3,
      "metadata": {
        "id": "1Vr9kmEk9DtE"
      },
      "outputs": [],
      "source": [
        "class VisionTransformer(nn.Module):\n",
        "    def __init__(\n",
        "        self,\n",
        "        img_size: int = 224,\n",
        "        patch_size: int = 16,\n",
        "        in_channels: int = 3,\n",
        "        embed_dim: int = 768,\n",
        "        num_layers: int = 12,\n",
        "        num_heads: int = 12,\n",
        "        ff_dim: int = 3072,\n",
        "        num_classes: int = 1000,\n",
        "        dropout: float = 0.1,\n",
        "        batch_first: bool = True,\n",
        "    ):\n",
        "        super(VisionTransformer, self).__init__()\n",
        "\n",
        "        self.num_patches = (img_size // patch_size) ** 2\n",
        "\n",
        "        self.patch_embed = PatchEmbedding(img_size, patch_size, in_channels, embed_dim)\n",
        "        self.cls_token = nn.Parameter(torch.randn(1, 1, embed_dim))\n",
        "        self.pos_embedding = PositionalEncodingLearned(self.num_patches + 1, embed_dim)\n",
        "\n",
        "        self.transformer = TransformerEncoder(\n",
        "            embed_dim, num_heads, ff_dim, num_layers, dropout, batch_first\n",
        "        )\n",
        "\n",
        "        self.mlp_head = nn.Linear(embed_dim, num_classes)\n",
        "\n",
        "    def forward(self, x):\n",
        "        # x shape: (B, C, H, W)\n",
        "        B = x.size(0)\n",
        "        x = self.patch_embed(x)  # (B, num_patches, embed_dim)\n",
        "\n",
        "        cls_tokens = self.cls_token.expand(B, -1, -1)  # (B, 1, embed_dim)\n",
        "        x = torch.cat((cls_tokens, x), dim=1)  # (B, 1 + num_patches, embed_dim)\n",
        "\n",
        "        x = self.pos_embedding(x)  # (B, 1 + num_patches, embed_dim) due to broadcasting\n",
        "\n",
        "        x = self.transformer(x)  # (B, 1 + num_patches, embed_dim)\n",
        "\n",
        "        cls_out = x[:, 0]  # use just CLS token for classification\n",
        "        return self.mlp_head(cls_out) # (B, num_classes)"
      ]
    },
    {
      "cell_type": "markdown",
      "metadata": {
        "id": "IXjAPbJ09DtF"
      },
      "source": [
        "# CIFAR10"
      ]
    },
    {
      "cell_type": "code",
      "execution_count": 11,
      "metadata": {
        "id": "ibXpHt5A9DtF"
      },
      "outputs": [],
      "source": [
        "# # Augmentation pipeline 1\n",
        "# transform_train = transforms.Compose([\n",
        "#     transforms.RandomHorizontalFlip(),\n",
        "#     transforms.RandomResizedCrop((32, 32), scale=(0.8, 1.0), ratio=(0.9, 1.1)),\n",
        "#     transforms.ToTensor(),\n",
        "#     transforms.Normalize(\n",
        "#         [0.49139968, 0.48215841, 0.44653091],\n",
        "#         [0.24703223, 0.24348513, 0.26158784]\n",
        "#     ),\n",
        "# ])\n",
        "\n",
        "# Augmentation pipeline 2\n",
        "transform_train = transforms.Compose([\n",
        "    transforms.RandomResizedCrop((32, 32), scale=(0.8, 1.0), ratio=(0.9, 1.1)),\n",
        "    transforms.RandomHorizontalFlip(),\n",
        "    transforms.ColorJitter(brightness=0.2, contrast=0.2, saturation=0.2, hue=0.1),  # Enhance color variation\n",
        "    transforms.ToTensor(),\n",
        "    transforms.RandomErasing(p=0.25, scale=(0.02, 0.2), ratio=(0.3, 3.3)),         # Mimic occlusion\n",
        "    transforms.Normalize(\n",
        "        mean=[0.49139968, 0.48215841, 0.44653091],\n",
        "        std=[0.24703223, 0.24348513, 0.26158784]\n",
        "    ),\n",
        "])\n",
        "\n",
        "transform_test = transforms.Compose([\n",
        "    transforms.ToTensor(),\n",
        "    transforms.Normalize([0.49139968, 0.48215841, 0.44653091], [0.24703223, 0.24348513, 0.26158784])\n",
        "])\n",
        "\n",
        "# Load your dataset\n",
        "train_dataset = datasets.CIFAR10(root='./data', train=True, download=True, transform=transform_train)\n",
        "train_loader = torch.utils.data.DataLoader(train_dataset, batch_size=512, shuffle=True)\n",
        "\n",
        "test_dataset = datasets.CIFAR10(root='./data', train=False, download=True, transform=transform_test)\n",
        "test_loader = torch.utils.data.DataLoader(test_dataset, batch_size=32, shuffle=False)"
      ]
    },
    {
      "cell_type": "code",
      "execution_count": 13,
      "metadata": {
        "colab": {
          "base_uri": "https://localhost:8080/"
        },
        "id": "AQEMWzbo9DtG",
        "outputId": "e686f31d-b590-477a-8268-a57b54ad4a6b"
      },
      "outputs": [
        {
          "name": "stdout",
          "output_type": "stream",
          "text": [
            "Image shape: torch.Size([3, 32, 32])\n",
            "\n",
            "Number of training images: 50000\n",
            "Number of test images: 10000\n"
          ]
        }
      ],
      "source": [
        "images, labels = next(iter(train_loader))\n",
        "\n",
        "print(f\"Image shape: {images.shape[1:]}\\n\")\n",
        "\n",
        "print(f\"Number of training images: {len(train_dataset)}\")\n",
        "print(f\"Number of test images: {len(test_dataset)}\")"
      ]
    },
    {
      "cell_type": "code",
      "execution_count": 14,
      "metadata": {
        "colab": {
          "base_uri": "https://localhost:8080/"
        },
        "id": "Dot2mJ4y9DtG",
        "outputId": "39ea32c4-b947-4757-e9d0-4ef913bda273"
      },
      "outputs": [
        {
          "name": "stdout",
          "output_type": "stream",
          "text": [
            "Tamaño de carpeta: 340.19 MB\n"
          ]
        }
      ],
      "source": [
        "def get_folder_size(folder_path :os.PathLike) -> str:\n",
        "    total_size = 0\n",
        "    for dirpath, _, filenames in os.walk(folder_path):\n",
        "        for filename in filenames:\n",
        "            file_path = os.path.join(dirpath, filename)\n",
        "\n",
        "            if not os.path.islink(file_path):\n",
        "                total_size += os.path.getsize(file_path)\n",
        "\n",
        "    if total_size == 0:\n",
        "        return \"0B\"\n",
        "    size_name = (\"B\", \"KB\", \"MB\", \"GB\", \"TB\")\n",
        "    i = int(math.floor(math.log(total_size, 1024)))\n",
        "    p = math.pow(1024, i)\n",
        "    s = round(total_size / p, 2)\n",
        "    return f\"{s} {size_name[i]}\"\n",
        "\n",
        "\n",
        "folder_path = './data'\n",
        "size_in_bytes = get_folder_size(folder_path)\n",
        "print(f\"Tamaño de carpeta: {size_in_bytes}\")"
      ]
    },
    {
      "cell_type": "markdown",
      "metadata": {
        "id": "opT_viKg9DtH"
      },
      "source": [
        "## **Entrenamiento**"
      ]
    },
    {
      "cell_type": "code",
      "execution_count": 16,
      "metadata": {
        "id": "-QFGJGJg9DtH"
      },
      "outputs": [],
      "source": [
        "'''\n",
        "A continuacion ingrese los parametros del modelo\n",
        "\n",
        "'''\n",
        "\n",
        "model = VisionTransformer(\n",
        "    img_size=32,\n",
        "    patch_size=4,\n",
        "    in_channels=3,\n",
        "    embed_dim=192,\n",
        "    num_heads=6,\n",
        "    ff_dim=384,\n",
        "    num_layers=6,\n",
        "    dropout=0.1,\n",
        "    batch_first=True\n",
        ").to(device)\n",
        "\n",
        "\n",
        "# print(\"Parametros del modelo:\", list(model.parameters()))\n",
        "\n",
        "# Definimos funciones de loss y optimizador\n",
        "criterion = nn.CrossEntropyLoss()\n",
        "optimizer = optim.AdamW(model.parameters(), lr=3e-4)\n",
        "scheduler = StepLR(optimizer, step_size=2, gamma=0.1)\n",
        "\n",
        "model = model.to(device)\n",
        "\n",
        "try:\n",
        "    model = torch.compile(model)\n",
        "except Exception as e:\n",
        "    print(\"Se produjo error durante la compilación:\", e)"
      ]
    },
    {
      "cell_type": "code",
      "execution_count": 17,
      "metadata": {
        "colab": {
          "base_uri": "https://localhost:8080/"
        },
        "id": "t8-ZGnMA9DtH",
        "outputId": "aaa19b79-2214-4307-f321-99c2ad4f7127"
      },
      "outputs": [
        {
          "name": "stdout",
          "output_type": "stream",
          "text": [
            "Número de parámetros: 1.99 millones\n"
          ]
        }
      ],
      "source": [
        "def count_parameters(model: nn.Module) -> int:\n",
        "    \"\"\"\n",
        "    Count the number of trainable parameters in a PyTorch model.\n",
        "\n",
        "    Args:\n",
        "        model (nn.Module): The PyTorch model.\n",
        "\n",
        "    Returns:\n",
        "        int: The total number of trainable parameters.\n",
        "    \"\"\"\n",
        "    return sum(p.numel() for p in model.parameters() if p.requires_grad) / 1_000_000\n",
        "\n",
        "torch.cuda.empty_cache()\n",
        "print(\"Número de parámetros: {:.2f} millones\".format(count_parameters(model)))"
      ]
    },
    {
      "cell_type": "code",
      "execution_count": 18,
      "metadata": {
        "id": "ohM6XfDVCCir"
      },
      "outputs": [],
      "source": [
        "trainer = Trainer(model, train_loader, test_loader, criterion, optimizer, device)\n",
        "\n",
        "early_stopping = EarlyStopping(\n",
        "    patience=5,\n",
        "    min_delta=1e-3,\n",
        "    restore_best_weights=True\n",
        ")"
      ]
    },
    {
      "cell_type": "code",
      "execution_count": 24,
      "metadata": {
        "colab": {
          "base_uri": "https://localhost:8080/"
        },
        "id": "1Z5po7np9DtI",
        "outputId": "597c115f-00a7-43d0-8dc1-dd182693bff7"
      },
      "outputs": [
        {
          "name": "stdout",
          "output_type": "stream",
          "text": [
            "Epoch 1/50\n"
          ]
        },
        {
          "name": "stderr",
          "output_type": "stream",
          "text": [
            "100%|██████████| 98/98 [01:25<00:00,  1.14it/s]\n",
            "100%|██████████| 313/313 [00:04<00:00, 67.98it/s]\n"
          ]
        },
        {
          "name": "stdout",
          "output_type": "stream",
          "text": [
            "Train Loss: 0.7561\n",
            "Validation Loss: 0.7934\n",
            "Epoch 2/50\n"
          ]
        },
        {
          "name": "stderr",
          "output_type": "stream",
          "text": [
            "100%|██████████| 98/98 [01:25<00:00,  1.14it/s]\n",
            "100%|██████████| 313/313 [00:03<00:00, 83.99it/s]\n"
          ]
        },
        {
          "name": "stdout",
          "output_type": "stream",
          "text": [
            "Train Loss: 0.7436\n",
            "Validation Loss: 0.8014\n",
            "Epoch 3/50\n"
          ]
        },
        {
          "name": "stderr",
          "output_type": "stream",
          "text": [
            "100%|██████████| 98/98 [01:25<00:00,  1.15it/s]\n",
            "100%|██████████| 313/313 [00:03<00:00, 83.92it/s]\n"
          ]
        },
        {
          "name": "stdout",
          "output_type": "stream",
          "text": [
            "Train Loss: 0.7338\n",
            "Validation Loss: 0.7784\n",
            "Epoch 4/50\n"
          ]
        },
        {
          "name": "stderr",
          "output_type": "stream",
          "text": [
            "100%|██████████| 98/98 [01:24<00:00,  1.15it/s]\n",
            "100%|██████████| 313/313 [00:04<00:00, 71.88it/s]\n"
          ]
        },
        {
          "name": "stdout",
          "output_type": "stream",
          "text": [
            "Train Loss: 0.7293\n",
            "Validation Loss: 0.7611\n",
            "Epoch 5/50\n"
          ]
        },
        {
          "name": "stderr",
          "output_type": "stream",
          "text": [
            "100%|██████████| 98/98 [01:24<00:00,  1.16it/s]\n",
            "100%|██████████| 313/313 [00:03<00:00, 85.10it/s]\n"
          ]
        },
        {
          "name": "stdout",
          "output_type": "stream",
          "text": [
            "Train Loss: 0.7204\n",
            "Validation Loss: 0.7483\n",
            "Epoch 6/50\n"
          ]
        },
        {
          "name": "stderr",
          "output_type": "stream",
          "text": [
            "100%|██████████| 98/98 [01:24<00:00,  1.15it/s]\n",
            "100%|██████████| 313/313 [00:03<00:00, 84.09it/s]\n"
          ]
        },
        {
          "name": "stdout",
          "output_type": "stream",
          "text": [
            "Train Loss: 0.7075\n",
            "Validation Loss: 0.7598\n",
            "Epoch 7/50\n"
          ]
        },
        {
          "name": "stderr",
          "output_type": "stream",
          "text": [
            "100%|██████████| 98/98 [01:24<00:00,  1.16it/s]\n",
            "100%|██████████| 313/313 [00:04<00:00, 72.36it/s]\n"
          ]
        },
        {
          "name": "stdout",
          "output_type": "stream",
          "text": [
            "Train Loss: 0.7056\n",
            "Validation Loss: 0.7728\n",
            "Epoch 8/50\n"
          ]
        },
        {
          "name": "stderr",
          "output_type": "stream",
          "text": [
            "100%|██████████| 98/98 [01:24<00:00,  1.16it/s]\n",
            "100%|██████████| 313/313 [00:03<00:00, 80.43it/s]\n"
          ]
        },
        {
          "name": "stdout",
          "output_type": "stream",
          "text": [
            "Train Loss: 0.6967\n",
            "Validation Loss: 0.7563\n",
            "Epoch 9/50\n"
          ]
        },
        {
          "name": "stderr",
          "output_type": "stream",
          "text": [
            "100%|██████████| 98/98 [01:24<00:00,  1.16it/s]\n",
            "100%|██████████| 313/313 [00:03<00:00, 84.96it/s]\n"
          ]
        },
        {
          "name": "stdout",
          "output_type": "stream",
          "text": [
            "Train Loss: 0.6836\n",
            "Validation Loss: 0.7501\n",
            "Epoch 10/50\n"
          ]
        },
        {
          "name": "stderr",
          "output_type": "stream",
          "text": [
            "100%|██████████| 98/98 [01:24<00:00,  1.16it/s]\n",
            "100%|██████████| 313/313 [00:03<00:00, 84.65it/s]\n"
          ]
        },
        {
          "name": "stdout",
          "output_type": "stream",
          "text": [
            "Train Loss: 0.6870\n",
            "Validation Loss: 0.7229\n",
            "Epoch 11/50\n"
          ]
        },
        {
          "name": "stderr",
          "output_type": "stream",
          "text": [
            "100%|██████████| 98/98 [01:24<00:00,  1.15it/s]\n",
            "100%|██████████| 313/313 [00:04<00:00, 69.96it/s]\n"
          ]
        },
        {
          "name": "stdout",
          "output_type": "stream",
          "text": [
            "Train Loss: 0.6715\n",
            "Validation Loss: 0.7389\n",
            "Epoch 12/50\n"
          ]
        },
        {
          "name": "stderr",
          "output_type": "stream",
          "text": [
            "100%|██████████| 98/98 [01:25<00:00,  1.15it/s]\n",
            "100%|██████████| 313/313 [00:03<00:00, 81.89it/s]\n"
          ]
        },
        {
          "name": "stdout",
          "output_type": "stream",
          "text": [
            "Train Loss: 0.6655\n",
            "Validation Loss: 0.7461\n",
            "Epoch 13/50\n"
          ]
        },
        {
          "name": "stderr",
          "output_type": "stream",
          "text": [
            "100%|██████████| 98/98 [01:24<00:00,  1.15it/s]\n",
            "100%|██████████| 313/313 [00:03<00:00, 83.72it/s]\n"
          ]
        },
        {
          "name": "stdout",
          "output_type": "stream",
          "text": [
            "Train Loss: 0.6635\n",
            "Validation Loss: 0.7220\n",
            "Epoch 14/50\n"
          ]
        },
        {
          "name": "stderr",
          "output_type": "stream",
          "text": [
            "100%|██████████| 98/98 [01:25<00:00,  1.15it/s]\n",
            "100%|██████████| 313/313 [00:04<00:00, 68.96it/s]\n"
          ]
        },
        {
          "name": "stdout",
          "output_type": "stream",
          "text": [
            "Train Loss: 0.6584\n",
            "Validation Loss: 0.7319\n",
            "Epoch 15/50\n"
          ]
        },
        {
          "name": "stderr",
          "output_type": "stream",
          "text": [
            "100%|██████████| 98/98 [01:25<00:00,  1.15it/s]\n",
            "100%|██████████| 313/313 [00:03<00:00, 83.68it/s]"
          ]
        },
        {
          "name": "stdout",
          "output_type": "stream",
          "text": [
            "Train Loss: 0.6494\n",
            "Validation Loss: 0.7412\n"
          ]
        },
        {
          "name": "stderr",
          "output_type": "stream",
          "text": [
            "\n"
          ]
        }
      ],
      "source": [
        "num_epochs = 50\n",
        "\n",
        "for epoch in range(num_epochs):\n",
        "    print(f\"Epoch {epoch+1}/{num_epochs}\")\n",
        "\n",
        "    train_loss = trainer.train_model(use_amp=True)\n",
        "    val_loss = trainer.eval_model()\n",
        "\n",
        "    print(f\"Train Loss: {train_loss:.4f}\")\n",
        "    print(f\"Validation Loss: {val_loss:.4f}\")\n",
        "\n",
        "    if early_stopping(trainer.model, val_loss):\n",
        "        break\n",
        "\n",
        "    #scheduler.step()"
      ]
    },
    {
      "cell_type": "code",
      "execution_count": 25,
      "metadata": {
        "id": "91j-axZOrA1R"
      },
      "outputs": [],
      "source": [
        "checkpoint = {\n",
        "    'model_state_dict': model.state_dict(),\n",
        "    'optimizer_state_dict': optimizer.state_dict(),\n",
        "    'scheduler_state_dict': scheduler.state_dict() if scheduler else None\n",
        "}\n",
        "\n",
        "torch.save(checkpoint, 'checkpoint.pth')"
      ]
    },
    {
      "cell_type": "code",
      "execution_count": 26,
      "metadata": {
        "colab": {
          "base_uri": "https://localhost:8080/",
          "height": 49,
          "referenced_widgets": [
            "32f131a132c34cb9889032cb91256f47",
            "19098d756fa045b6ab5459d6b4a349e3",
            "0e591977f22a40948c17b1a3630f08bc",
            "ff3a82bb29024a04a05e38c6fc4ed883",
            "6c29b949dcab46f786dcc137647574bf",
            "30e6da6dc1df4e15b760505a19c6f41e",
            "b43b1b764a7e4679936647b3bf2e8ce6",
            "bc3dacc325da49269d559f61a5596004",
            "19322aed5ea84ff6b4981257f5916fdb",
            "a24334d9308b4016a2e354b24a0ac6dd",
            "a45fedfb111044af9292bfdea3b54b6f"
          ]
        },
        "id": "zcB2cEe39DtI",
        "outputId": "da5f829f-9aea-4ba0-8d80-fd8c8ef7cd02"
      },
      "outputs": [
        {
          "data": {
            "application/vnd.jupyter.widget-view+json": {
              "model_id": "32f131a132c34cb9889032cb91256f47",
              "version_major": 2,
              "version_minor": 0
            },
            "text/plain": [
              "  0%|          | 0/313 [00:00<?, ?it/s]"
            ]
          },
          "metadata": {},
          "output_type": "display_data"
        }
      ],
      "source": [
        "def evaluate_model(model, data_loader):\n",
        "    y_true = []\n",
        "    y_pred = []\n",
        "    model.eval()\n",
        "    with torch.no_grad():\n",
        "        for images, labels in tqdm(data_loader):\n",
        "            images = images.to(device).float()\n",
        "            outputs = model(images)\n",
        "            _, preds = torch.max(outputs, 1)\n",
        "            y_true.extend(labels.cpu().numpy())\n",
        "            y_pred.extend(preds.cpu().numpy())\n",
        "\n",
        "    accuracy = accuracy_score(y_true, y_pred)\n",
        "    precision = precision_score(y_true, y_pred, average='macro')\n",
        "    recall = recall_score(y_true, y_pred, average='macro')\n",
        "    f1 = f1_score(y_true, y_pred, average='macro')\n",
        "\n",
        "    return accuracy, precision, recall, f1\n",
        "\n",
        "# Evaluar el modelo\n",
        "accuracy, precision, recall, f1 = evaluate_model(model, test_loader)\n"
      ]
    },
    {
      "cell_type": "code",
      "execution_count": 28,
      "metadata": {
        "colab": {
          "base_uri": "https://localhost:8080/"
        },
        "id": "q2fEboYX9DtI",
        "outputId": "8e72288f-b116-4838-c7b5-2c935d3c5657"
      },
      "outputs": [
        {
          "name": "stdout",
          "output_type": "stream",
          "text": [
            "Accuracy: 0.7519\n",
            "Precision: 0.7502\n",
            "Recall: 0.7519\n",
            "F1 score: 0.7502\n"
          ]
        }
      ],
      "source": [
        "print(f\"Accuracy: {accuracy:.4f}\")\n",
        "print(f\"Precision: {precision:.4f}\")\n",
        "print(f\"Recall: {recall:.4f}\")\n",
        "print(f\"F1 score: {f1:.4f}\")"
      ]
    },
    {
      "cell_type": "markdown",
      "metadata": {
        "id": "g8fy0UUwXaOL"
      },
      "source": [
        "## **Resultados**"
      ]
    },
    {
      "cell_type": "markdown",
      "metadata": {
        "id": "9NQjfXzdfmxq"
      },
      "source": [
        "**Experimento 1**\n",
        "\n",
        "Arquitectura simple con técnicas de data augmentation básicas: horizontal flip y random sized crop."
      ]
    },
    {
      "cell_type": "code",
      "execution_count": null,
      "metadata": {
        "id": "uSNn13HNW5Bt"
      },
      "outputs": [],
      "source": [
        "experiment_01 = {\n",
        "    \"augmentation_pipeline\": 1,\n",
        "    \"patch_size\": 8,\n",
        "    \"embed_dim\": 128,\n",
        "    \"num_heads\": 4,\n",
        "    \"ff_dim\": 256,\n",
        "    \"num_layers\": 4,\n",
        "    \"dropout\": 0.1,\n",
        "    \"num params (M)\": 0.68,\n",
        "    \"epochs\": 50,\n",
        "    \"results\": {\n",
        "        \"val_loss\": 0.9543,\n",
        "        \"accuracy\": 0.67,\n",
        "        \"precision\": 0.67,\n",
        "        \"recall\": 0.67,\n",
        "        \"f1_score\": 0.66\n",
        "    }\n",
        "}"
      ]
    },
    {
      "cell_type": "markdown",
      "metadata": {
        "id": "t1HVJbuhg-Ji"
      },
      "source": [
        "Si bien el entrenamiento no llegó a detenerse debido al early stopping, sino que entrenó durante las 50 épocas predefinidas, aún así podemos obtener conclusiones parciales. El modelo aprende, tal como puede verse en el descenso del costo de entrenamiento a través de las diferentes épocas y no sobre-ajusta en esa cantidad de épocas.\n",
        "\n",
        "Vamos a probar un nuevo entrenamiento modificando los parámetros para aumentar el tamaño de la red. Vamos a conservar el valor de dropout en 0.1, ya que el modelo no muestra signos de sobre-ajuste."
      ]
    },
    {
      "cell_type": "markdown",
      "metadata": {
        "id": "gQ2h1-AvfoQL"
      },
      "source": [
        "**Experimento 2**\n",
        "\n",
        "Incremento en la complejidad de la arquitectura e introducción de técnicas de data augmentation más avanzadas: color jitter y random erasing."
      ]
    },
    {
      "cell_type": "code",
      "execution_count": null,
      "metadata": {
        "id": "GJLdJn0XXULr"
      },
      "outputs": [],
      "source": [
        "experiment_02 = {\n",
        "    \"augmentation_pipeline\": 1,\n",
        "    \"patch_size\": 4,             # Finer spatial resolution → 64 patches instead of 16\n",
        "    \"embed_dim\": 192,            # Slightly higher embedding dim = more capacity\n",
        "    \"num_heads\": 6,              # Must divide embed_dim (192 / 6 = 32)\n",
        "    \"ff_dim\": 384,               # Keep ~2× the embed_dim\n",
        "    \"num_layers\": 6,             # A bit deeper — can help with small datasets\n",
        "    \"dropout\": 0.1,              # Keep stable\n",
        "    \"num params (M)\": 1.99,\n",
        "    \"epochs\": 65,\n",
        "    \"results\": {\n",
        "        \"accuracy\": 0.7519,\n",
        "        \"precision\": 0.7502,\n",
        "        \"recall\": 0.7519,\n",
        "        \"f1_score\": 0.7502\n",
        "    }\n",
        "}"
      ]
    },
    {
      "cell_type": "markdown",
      "metadata": {
        "id": "nAhycbV6gPkE"
      },
      "source": [
        "Los resultados obtenidos en el segundo experimento son considerablemente mejores a los obtenidos en el primer experimento. El entrenamiento se detuvo debido al early stopping utilizado, por lo que podríamos considerarlo finalizado.\n",
        "\n",
        "Indudablemente el incremento en la complejidad de la arquitectura, asi como la utilización de técnicas de data augmentation mas avanzadas permitio alcanzar resultados mucho mejores en el dataset de CIFAR10."
      ]
    },
    {
      "cell_type": "code",
      "execution_count": 29,
      "metadata": {
        "colab": {
          "base_uri": "https://localhost:8080/",
          "height": 1000,
          "referenced_widgets": [
            "b7b6714e730b48319fbdc5ac49860cc3",
            "e4ad1b9aa03546dcaa2fc31c3d68bf97",
            "d77947484ba84430864acfc79b7e7c53",
            "477f5f100c0e4ab8b8f55aefdf3ec621",
            "60f4b252371a4f799e4a0c6718042be2",
            "d4c5114a195e4d9da1c573820cdd8288",
            "39d888360fd64050b353860b7c72c777",
            "5b896af5283e4e95b22865515a3fb0ae",
            "c239cedc5d854bf3b5ed8885aae82cea",
            "04d61ac0603045e09659fe718f961087",
            "3ecbb627cb59407498f96bb3752567cf"
          ]
        },
        "id": "__584mCo9DtJ",
        "outputId": "72f3d961-a334-4c5a-c583-3a599a54a738"
      },
      "outputs": [
        {
          "data": {
            "application/vnd.jupyter.widget-view+json": {
              "model_id": "b7b6714e730b48319fbdc5ac49860cc3",
              "version_major": 2,
              "version_minor": 0
            },
            "text/plain": [
              "  0%|          | 0/313 [00:00<?, ?it/s]"
            ]
          },
          "metadata": {},
          "output_type": "display_data"
        },
        {
          "data": {
            "image/png": "[encoded data removed]",
            "text/plain": [
              "<Figure size 1200x1200 with 16 Axes>"
            ]
          },
          "metadata": {},
          "output_type": "display_data"
        }
      ],
      "source": [
        "\n",
        "def visualize_classification(model, data_loader, class_names, num_images=16):\n",
        "    model.eval()\n",
        "    images_so_far = 0\n",
        "    fig = plt.figure(figsize=(12, 12))\n",
        "\n",
        "    with torch.no_grad():\n",
        "        for i, (inputs, labels) in enumerate(tqdm(data_loader)):\n",
        "            inputs = inputs.to(device)\n",
        "            outputs = model(inputs)\n",
        "            _, preds = torch.max(outputs, 1)\n",
        "\n",
        "            for j in range(inputs.size()[0]):\n",
        "                images_so_far += 1\n",
        "                ax = plt.subplot(num_images // 4, 4, images_so_far)\n",
        "                ax.axis('off')\n",
        "                ax.set_title(f'True: {class_names[labels[j]]}\\nPred: {class_names[preds[j]]}')\n",
        "                img = inputs[j].cpu().numpy().transpose((1, 2, 0))\n",
        "                img = img * [0.229, 0.224, 0.225] + [0.485, 0.456, 0.406]  # Unnormalize\n",
        "                img = np.clip(img, 0, 1)\n",
        "                ax.imshow(img)\n",
        "\n",
        "                if images_so_far == num_images:\n",
        "                    return\n",
        "\n",
        "\n",
        "visualize_classification(model, test_loader, test_dataset.classes, num_images=16)\n",
        "plt.show()\n"
      ]
    }
  ],
  "metadata": {
    "accelerator": "GPU",
    "colab": {
      "gpuType": "T4",
      "provenance": []
    },
    "kernelspec": {
      "display_name": "CEIA_vpc_III-wuBgbB6w",
      "language": "python",
      "name": "python3"
    },
    "language_info": {
      "codemirror_mode": {
        "name": "ipython",
        "version": 3
      },
      "file_extension": ".py",
      "mimetype": "text/x-python",
      "name": "python",
      "nbconvert_exporter": "python",
      "pygments_lexer": "ipython3",
      "version": "3.11.9"
    },
    "widgets": {
      "application/vnd.jupyter.widget-state+json": {
        "04d61ac0603045e09659fe718f961087": {
          "model_module": "@jupyter-widgets/base",
          "model_module_version": "1.2.0",
          "model_name": "LayoutModel",
          "state": {
            "_model_module": "@jupyter-widgets/base",
            "_model_module_version": "1.2.0",
            "_model_name": "LayoutModel",
            "_view_count": null,
            "_view_module": "@jupyter-widgets/base",
            "_view_module_version": "1.2.0",
            "_view_name": "LayoutView",
            "align_content": null,
            "align_items": null,
            "align_self": null,
            "border": null,
            "bottom": null,
            "display": null,
            "flex": null,
            "flex_flow": null,
            "grid_area": null,
            "grid_auto_columns": null,
            "grid_auto_flow": null,
            "grid_auto_rows": null,
            "grid_column": null,
            "grid_gap": null,
            "grid_row": null,
            "grid_template_areas": null,
            "grid_template_columns": null,
            "grid_template_rows": null,
            "height": null,
            "justify_content": null,
            "justify_items": null,
            "left": null,
            "margin": null,
            "max_height": null,
            "max_width": null,
            "min_height": null,
            "min_width": null,
            "object_fit": null,
            "object_position": null,
            "order": null,
            "overflow": null,
            "overflow_x": null,
            "overflow_y": null,
            "padding": null,
            "right": null,
            "top": null,
            "visibility": null,
            "width": null
          }
        },
        "0e591977f22a40948c17b1a3630f08bc": {
          "model_module": "@jupyter-widgets/controls",
          "model_module_version": "1.5.0",
          "model_name": "FloatProgressModel",
          "state": {
            "_dom_classes": [],
            "_model_module": "@jupyter-widgets/controls",
            "_model_module_version": "1.5.0",
            "_model_name": "FloatProgressModel",
            "_view_count": null,
            "_view_module": "@jupyter-widgets/controls",
            "_view_module_version": "1.5.0",
            "_view_name": "ProgressView",
            "bar_style": "success",
            "description": "",
            "description_tooltip": null,
            "layout": "IPY_MODEL_bc3dacc325da49269d559f61a5596004",
            "max": 313,
            "min": 0,
            "orientation": "horizontal",
            "style": "IPY_MODEL_19322aed5ea84ff6b4981257f5916fdb",
            "value": 313
          }
        },
        "19098d756fa045b6ab5459d6b4a349e3": {
          "model_module": "@jupyter-widgets/controls",
          "model_module_version": "1.5.0",
          "model_name": "HTMLModel",
          "state": {
            "_dom_classes": [],
            "_model_module": "@jupyter-widgets/controls",
            "_model_module_version": "1.5.0",
            "_model_name": "HTMLModel",
            "_view_count": null,
            "_view_module": "@jupyter-widgets/controls",
            "_view_module_version": "1.5.0",
            "_view_name": "HTMLView",
            "description": "",
            "description_tooltip": null,
            "layout": "IPY_MODEL_30e6da6dc1df4e15b760505a19c6f41e",
            "placeholder": "​",
            "style": "IPY_MODEL_b43b1b764a7e4679936647b3bf2e8ce6",
            "value": "100%"
          }
        },
        "19322aed5ea84ff6b4981257f5916fdb": {
          "model_module": "@jupyter-widgets/controls",
          "model_module_version": "1.5.0",
          "model_name": "ProgressStyleModel",
          "state": {
            "_model_module": "@jupyter-widgets/controls",
            "_model_module_version": "1.5.0",
            "_model_name": "ProgressStyleModel",
            "_view_count": null,
            "_view_module": "@jupyter-widgets/base",
            "_view_module_version": "1.2.0",
            "_view_name": "StyleView",
            "bar_color": null,
            "description_width": ""
          }
        },
        "30e6da6dc1df4e15b760505a19c6f41e": {
          "model_module": "@jupyter-widgets/base",
          "model_module_version": "1.2.0",
          "model_name": "LayoutModel",
          "state": {
            "_model_module": "@jupyter-widgets/base",
            "_model_module_version": "1.2.0",
            "_model_name": "LayoutModel",
            "_view_count": null,
            "_view_module": "@jupyter-widgets/base",
            "_view_module_version": "1.2.0",
            "_view_name": "LayoutView",
            "align_content": null,
            "align_items": null,
            "align_self": null,
            "border": null,
            "bottom": null,
            "display": null,
            "flex": null,
            "flex_flow": null,
            "grid_area": null,
            "grid_auto_columns": null,
            "grid_auto_flow": null,
            "grid_auto_rows": null,
            "grid_column": null,
            "grid_gap": null,
            "grid_row": null,
            "grid_template_areas": null,
            "grid_template_columns": null,
            "grid_template_rows": null,
            "height": null,
            "justify_content": null,
            "justify_items": null,
            "left": null,
            "margin": null,
            "max_height": null,
            "max_width": null,
            "min_height": null,
            "min_width": null,
            "object_fit": null,
            "object_position": null,
            "order": null,
            "overflow": null,
            "overflow_x": null,
            "overflow_y": null,
            "padding": null,
            "right": null,
            "top": null,
            "visibility": null,
            "width": null
          }
        },
        "32f131a132c34cb9889032cb91256f47": {
          "model_module": "@jupyter-widgets/controls",
          "model_module_version": "1.5.0",
          "model_name": "HBoxModel",
          "state": {
            "_dom_classes": [],
            "_model_module": "@jupyter-widgets/controls",
            "_model_module_version": "1.5.0",
            "_model_name": "HBoxModel",
            "_view_count": null,
            "_view_module": "@jupyter-widgets/controls",
            "_view_module_version": "1.5.0",
            "_view_name": "HBoxView",
            "box_style": "",
            "children": [
              "IPY_MODEL_19098d756fa045b6ab5459d6b4a349e3",
              "IPY_MODEL_0e591977f22a40948c17b1a3630f08bc",
              "IPY_MODEL_ff3a82bb29024a04a05e38c6fc4ed883"
            ],
            "layout": "IPY_MODEL_6c29b949dcab46f786dcc137647574bf"
          }
        },
        "39d888360fd64050b353860b7c72c777": {
          "model_module": "@jupyter-widgets/controls",
          "model_module_version": "1.5.0",
          "model_name": "DescriptionStyleModel",
          "state": {
            "_model_module": "@jupyter-widgets/controls",
            "_model_module_version": "1.5.0",
            "_model_name": "DescriptionStyleModel",
            "_view_count": null,
            "_view_module": "@jupyter-widgets/base",
            "_view_module_version": "1.2.0",
            "_view_name": "StyleView",
            "description_width": ""
          }
        },
        "3ecbb627cb59407498f96bb3752567cf": {
          "model_module": "@jupyter-widgets/controls",
          "model_module_version": "1.5.0",
          "model_name": "DescriptionStyleModel",
          "state": {
            "_model_module": "@jupyter-widgets/controls",
            "_model_module_version": "1.5.0",
            "_model_name": "DescriptionStyleModel",
            "_view_count": null,
            "_view_module": "@jupyter-widgets/base",
            "_view_module_version": "1.2.0",
            "_view_name": "StyleView",
            "description_width": ""
          }
        },
        "477f5f100c0e4ab8b8f55aefdf3ec621": {
          "model_module": "@jupyter-widgets/controls",
          "model_module_version": "1.5.0",
          "model_name": "HTMLModel",
          "state": {
            "_dom_classes": [],
            "_model_module": "@jupyter-widgets/controls",
            "_model_module_version": "1.5.0",
            "_model_name": "HTMLModel",
            "_view_count": null,
            "_view_module": "@jupyter-widgets/controls",
            "_view_module_version": "1.5.0",
            "_view_name": "HTMLView",
            "description": "",
            "description_tooltip": null,
            "layout": "IPY_MODEL_04d61ac0603045e09659fe718f961087",
            "placeholder": "​",
            "style": "IPY_MODEL_3ecbb627cb59407498f96bb3752567cf",
            "value": " 0/313 [00:00&lt;?, ?it/s]"
          }
        },
        "5b896af5283e4e95b22865515a3fb0ae": {
          "model_module": "@jupyter-widgets/base",
          "model_module_version": "1.2.0",
          "model_name": "LayoutModel",
          "state": {
            "_model_module": "@jupyter-widgets/base",
            "_model_module_version": "1.2.0",
            "_model_name": "LayoutModel",
            "_view_count": null,
            "_view_module": "@jupyter-widgets/base",
            "_view_module_version": "1.2.0",
            "_view_name": "LayoutView",
            "align_content": null,
            "align_items": null,
            "align_self": null,
            "border": null,
            "bottom": null,
            "display": null,
            "flex": null,
            "flex_flow": null,
            "grid_area": null,
            "grid_auto_columns": null,
            "grid_auto_flow": null,
            "grid_auto_rows": null,
            "grid_column": null,
            "grid_gap": null,
            "grid_row": null,
            "grid_template_areas": null,
            "grid_template_columns": null,
            "grid_template_rows": null,
            "height": null,
            "justify_content": null,
            "justify_items": null,
            "left": null,
            "margin": null,
            "max_height": null,
            "max_width": null,
            "min_height": null,
            "min_width": null,
            "object_fit": null,
            "object_position": null,
            "order": null,
            "overflow": null,
            "overflow_x": null,
            "overflow_y": null,
            "padding": null,
            "right": null,
            "top": null,
            "visibility": null,
            "width": null
          }
        },
        "60f4b252371a4f799e4a0c6718042be2": {
          "model_module": "@jupyter-widgets/base",
          "model_module_version": "1.2.0",
          "model_name": "LayoutModel",
          "state": {
            "_model_module": "@jupyter-widgets/base",
            "_model_module_version": "1.2.0",
            "_model_name": "LayoutModel",
            "_view_count": null,
            "_view_module": "@jupyter-widgets/base",
            "_view_module_version": "1.2.0",
            "_view_name": "LayoutView",
            "align_content": null,
            "align_items": null,
            "align_self": null,
            "border": null,
            "bottom": null,
            "display": null,
            "flex": null,
            "flex_flow": null,
            "grid_area": null,
            "grid_auto_columns": null,
            "grid_auto_flow": null,
            "grid_auto_rows": null,
            "grid_column": null,
            "grid_gap": null,
            "grid_row": null,
            "grid_template_areas": null,
            "grid_template_columns": null,
            "grid_template_rows": null,
            "height": null,
            "justify_content": null,
            "justify_items": null,
            "left": null,
            "margin": null,
            "max_height": null,
            "max_width": null,
            "min_height": null,
            "min_width": null,
            "object_fit": null,
            "object_position": null,
            "order": null,
            "overflow": null,
            "overflow_x": null,
            "overflow_y": null,
            "padding": null,
            "right": null,
            "top": null,
            "visibility": null,
            "width": null
          }
        },
        "6c29b949dcab46f786dcc137647574bf": {
          "model_module": "@jupyter-widgets/base",
          "model_module_version": "1.2.0",
          "model_name": "LayoutModel",
          "state": {
            "_model_module": "@jupyter-widgets/base",
            "_model_module_version": "1.2.0",
            "_model_name": "LayoutModel",
            "_view_count": null,
            "_view_module": "@jupyter-widgets/base",
            "_view_module_version": "1.2.0",
            "_view_name": "LayoutView",
            "align_content": null,
            "align_items": null,
            "align_self": null,
            "border": null,
            "bottom": null,
            "display": null,
            "flex": null,
            "flex_flow": null,
            "grid_area": null,
            "grid_auto_columns": null,
            "grid_auto_flow": null,
            "grid_auto_rows": null,
            "grid_column": null,
            "grid_gap": null,
            "grid_row": null,
            "grid_template_areas": null,
            "grid_template_columns": null,
            "grid_template_rows": null,
            "height": null,
            "justify_content": null,
            "justify_items": null,
            "left": null,
            "margin": null,
            "max_height": null,
            "max_width": null,
            "min_height": null,
            "min_width": null,
            "object_fit": null,
            "object_position": null,
            "order": null,
            "overflow": null,
            "overflow_x": null,
            "overflow_y": null,
            "padding": null,
            "right": null,
            "top": null,
            "visibility": null,
            "width": null
          }
        },
        "a24334d9308b4016a2e354b24a0ac6dd": {
          "model_module": "@jupyter-widgets/base",
          "model_module_version": "1.2.0",
          "model_name": "LayoutModel",
          "state": {
            "_model_module": "@jupyter-widgets/base",
            "_model_module_version": "1.2.0",
            "_model_name": "LayoutModel",
            "_view_count": null,
            "_view_module": "@jupyter-widgets/base",
            "_view_module_version": "1.2.0",
            "_view_name": "LayoutView",
            "align_content": null,
            "align_items": null,
            "align_self": null,
            "border": null,
            "bottom": null,
            "display": null,
            "flex": null,
            "flex_flow": null,
            "grid_area": null,
            "grid_auto_columns": null,
            "grid_auto_flow": null,
            "grid_auto_rows": null,
            "grid_column": null,
            "grid_gap": null,
            "grid_row": null,
            "grid_template_areas": null,
            "grid_template_columns": null,
            "grid_template_rows": null,
            "height": null,
            "justify_content": null,
            "justify_items": null,
            "left": null,
            "margin": null,
            "max_height": null,
            "max_width": null,
            "min_height": null,
            "min_width": null,
            "object_fit": null,
            "object_position": null,
            "order": null,
            "overflow": null,
            "overflow_x": null,
            "overflow_y": null,
            "padding": null,
            "right": null,
            "top": null,
            "visibility": null,
            "width": null
          }
        },
        "a45fedfb111044af9292bfdea3b54b6f": {
          "model_module": "@jupyter-widgets/controls",
          "model_module_version": "1.5.0",
          "model_name": "DescriptionStyleModel",
          "state": {
            "_model_module": "@jupyter-widgets/controls",
            "_model_module_version": "1.5.0",
            "_model_name": "DescriptionStyleModel",
            "_view_count": null,
            "_view_module": "@jupyter-widgets/base",
            "_view_module_version": "1.2.0",
            "_view_name": "StyleView",
            "description_width": ""
          }
        },
        "b43b1b764a7e4679936647b3bf2e8ce6": {
          "model_module": "@jupyter-widgets/controls",
          "model_module_version": "1.5.0",
          "model_name": "DescriptionStyleModel",
          "state": {
            "_model_module": "@jupyter-widgets/controls",
            "_model_module_version": "1.5.0",
            "_model_name": "DescriptionStyleModel",
            "_view_count": null,
            "_view_module": "@jupyter-widgets/base",
            "_view_module_version": "1.2.0",
            "_view_name": "StyleView",
            "description_width": ""
          }
        },
        "b7b6714e730b48319fbdc5ac49860cc3": {
          "model_module": "@jupyter-widgets/controls",
          "model_module_version": "1.5.0",
          "model_name": "HBoxModel",
          "state": {
            "_dom_classes": [],
            "_model_module": "@jupyter-widgets/controls",
            "_model_module_version": "1.5.0",
            "_model_name": "HBoxModel",
            "_view_count": null,
            "_view_module": "@jupyter-widgets/controls",
            "_view_module_version": "1.5.0",
            "_view_name": "HBoxView",
            "box_style": "",
            "children": [
              "IPY_MODEL_e4ad1b9aa03546dcaa2fc31c3d68bf97",
              "IPY_MODEL_d77947484ba84430864acfc79b7e7c53",
              "IPY_MODEL_477f5f100c0e4ab8b8f55aefdf3ec621"
            ],
            "layout": "IPY_MODEL_60f4b252371a4f799e4a0c6718042be2"
          }
        },
        "bc3dacc325da49269d559f61a5596004": {
          "model_module": "@jupyter-widgets/base",
          "model_module_version": "1.2.0",
          "model_name": "LayoutModel",
          "state": {
            "_model_module": "@jupyter-widgets/base",
            "_model_module_version": "1.2.0",
            "_model_name": "LayoutModel",
            "_view_count": null,
            "_view_module": "@jupyter-widgets/base",
            "_view_module_version": "1.2.0",
            "_view_name": "LayoutView",
            "align_content": null,
            "align_items": null,
            "align_self": null,
            "border": null,
            "bottom": null,
            "display": null,
            "flex": null,
            "flex_flow": null,
            "grid_area": null,
            "grid_auto_columns": null,
            "grid_auto_flow": null,
            "grid_auto_rows": null,
            "grid_column": null,
            "grid_gap": null,
            "grid_row": null,
            "grid_template_areas": null,
            "grid_template_columns": null,
            "grid_template_rows": null,
            "height": null,
            "justify_content": null,
            "justify_items": null,
            "left": null,
            "margin": null,
            "max_height": null,
            "max_width": null,
            "min_height": null,
            "min_width": null,
            "object_fit": null,
            "object_position": null,
            "order": null,
            "overflow": null,
            "overflow_x": null,
            "overflow_y": null,
            "padding": null,
            "right": null,
            "top": null,
            "visibility": null,
            "width": null
          }
        },
        "c239cedc5d854bf3b5ed8885aae82cea": {
          "model_module": "@jupyter-widgets/controls",
          "model_module_version": "1.5.0",
          "model_name": "ProgressStyleModel",
          "state": {
            "_model_module": "@jupyter-widgets/controls",
            "_model_module_version": "1.5.0",
            "_model_name": "ProgressStyleModel",
            "_view_count": null,
            "_view_module": "@jupyter-widgets/base",
            "_view_module_version": "1.2.0",
            "_view_name": "StyleView",
            "bar_color": null,
            "description_width": ""
          }
        },
        "d4c5114a195e4d9da1c573820cdd8288": {
          "model_module": "@jupyter-widgets/base",
          "model_module_version": "1.2.0",
          "model_name": "LayoutModel",
          "state": {
            "_model_module": "@jupyter-widgets/base",
            "_model_module_version": "1.2.0",
            "_model_name": "LayoutModel",
            "_view_count": null,
            "_view_module": "@jupyter-widgets/base",
            "_view_module_version": "1.2.0",
            "_view_name": "LayoutView",
            "align_content": null,
            "align_items": null,
            "align_self": null,
            "border": null,
            "bottom": null,
            "display": null,
            "flex": null,
            "flex_flow": null,
            "grid_area": null,
            "grid_auto_columns": null,
            "grid_auto_flow": null,
            "grid_auto_rows": null,
            "grid_column": null,
            "grid_gap": null,
            "grid_row": null,
            "grid_template_areas": null,
            "grid_template_columns": null,
            "grid_template_rows": null,
            "height": null,
            "justify_content": null,
            "justify_items": null,
            "left": null,
            "margin": null,
            "max_height": null,
            "max_width": null,
            "min_height": null,
            "min_width": null,
            "object_fit": null,
            "object_position": null,
            "order": null,
            "overflow": null,
            "overflow_x": null,
            "overflow_y": null,
            "padding": null,
            "right": null,
            "top": null,
            "visibility": null,
            "width": null
          }
        },
        "d77947484ba84430864acfc79b7e7c53": {
          "model_module": "@jupyter-widgets/controls",
          "model_module_version": "1.5.0",
          "model_name": "FloatProgressModel",
          "state": {
            "_dom_classes": [],
            "_model_module": "@jupyter-widgets/controls",
            "_model_module_version": "1.5.0",
            "_model_name": "FloatProgressModel",
            "_view_count": null,
            "_view_module": "@jupyter-widgets/controls",
            "_view_module_version": "1.5.0",
            "_view_name": "ProgressView",
            "bar_style": "danger",
            "description": "",
            "description_tooltip": null,
            "layout": "IPY_MODEL_5b896af5283e4e95b22865515a3fb0ae",
            "max": 313,
            "min": 0,
            "orientation": "horizontal",
            "style": "IPY_MODEL_c239cedc5d854bf3b5ed8885aae82cea",
            "value": 0
          }
        },
        "e4ad1b9aa03546dcaa2fc31c3d68bf97": {
          "model_module": "@jupyter-widgets/controls",
          "model_module_version": "1.5.0",
          "model_name": "HTMLModel",
          "state": {
            "_dom_classes": [],
            "_model_module": "@jupyter-widgets/controls",
            "_model_module_version": "1.5.0",
            "_model_name": "HTMLModel",
            "_view_count": null,
            "_view_module": "@jupyter-widgets/controls",
            "_view_module_version": "1.5.0",
            "_view_name": "HTMLView",
            "description": "",
            "description_tooltip": null,
            "layout": "IPY_MODEL_d4c5114a195e4d9da1c573820cdd8288",
            "placeholder": "​",
            "style": "IPY_MODEL_39d888360fd64050b353860b7c72c777",
            "value": "  0%"
          }
        },
        "ff3a82bb29024a04a05e38c6fc4ed883": {
          "model_module": "@jupyter-widgets/controls",
          "model_module_version": "1.5.0",
          "model_name": "HTMLModel",
          "state": {
            "_dom_classes": [],
            "_model_module": "@jupyter-widgets/controls",
            "_model_module_version": "1.5.0",
            "_model_name": "HTMLModel",
            "_view_count": null,
            "_view_module": "@jupyter-widgets/controls",
            "_view_module_version": "1.5.0",
            "_view_name": "HTMLView",
            "description": "",
            "description_tooltip": null,
            "layout": "IPY_MODEL_a24334d9308b4016a2e354b24a0ac6dd",
            "placeholder": "​",
            "style": "IPY_MODEL_a45fedfb111044af9292bfdea3b54b6f",
            "value": " 313/313 [00:04&lt;00:00, 79.33it/s]"
          }
        }
      }
    }
  },
  "nbformat": 4,
  "nbformat_minor": 0
}
